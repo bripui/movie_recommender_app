{
 "cells": [
  {
   "cell_type": "code",
   "execution_count": 23,
   "metadata": {},
   "outputs": [],
   "source": [
    "from flask import Flask, Response, request, jsonify, render_template, url_for\n",
    "from utils import movies, lookup_movie, movie_average_rating, genres, neighbor_recommender, movies_genres_ohe\n",
    "from recommender import recommend_most_popular, recommend_random\n",
    "\n",
    "import pandas as pd"
   ]
  },
  {
   "cell_type": "code",
   "execution_count": 2,
   "metadata": {},
   "outputs": [],
   "source": [
    "user = {'ratings': {'arielle': '5', 'lion king': '5', 'toy story': '4', 'jungle book': '5'}, 'genres': ['musical', 'children', 'comedy']}"
   ]
  },
  {
   "cell_type": "code",
   "execution_count": 3,
   "metadata": {},
   "outputs": [
    {
     "data": {
      "text/plain": [
       "{'ratings': {'arielle': '5',\n",
       "  'lion king': '5',\n",
       "  'toy story': '4',\n",
       "  'jungle book': '5'},\n",
       " 'genres': ['musical', 'children', 'comedy']}"
      ]
     },
     "execution_count": 3,
     "metadata": {},
     "output_type": "execute_result"
    }
   ],
   "source": [
    "user"
   ]
  },
  {
   "cell_type": "code",
   "execution_count": 4,
   "metadata": {},
   "outputs": [
    {
     "data": {
      "text/plain": [
       "['Beauty and the Beast (1991)',\n",
       " 'Aladdin (1992)',\n",
       " 'Shawshank Redemption, The (1994)',\n",
       " 'Fugitive, The (1993)',\n",
       " 'Dances with Wolves (1990)',\n",
       " 'Apollo 13 (1995)',\n",
       " 'Batman (1989)',\n",
       " 'Ace Ventura: Pet Detective (1994)',\n",
       " 'Babe (1995)',\n",
       " 'Braveheart (1995)']"
      ]
     },
     "execution_count": 4,
     "metadata": {},
     "output_type": "execute_result"
    }
   ],
   "source": [
    "neighbor_recommender(user)"
   ]
  },
  {
   "cell_type": "code",
   "execution_count": 5,
   "metadata": {},
   "outputs": [
    {
     "data": {
      "text/plain": [
       "[('Lion King, The (1994)', 90, 364),\n",
       " (\"Lion King II: Simba's Pride, The (1998)\", 90, 26999),\n",
       " ('Lion King 1½, The (2004)', 90, 27619),\n",
       " (\"Kid in King Arthur's Court, A (1995)\", 86, 258),\n",
       " ('Madness of King George, The (1994)', 86, 272)]"
      ]
     },
     "execution_count": 5,
     "metadata": {},
     "output_type": "execute_result"
    }
   ],
   "source": [
    "lookup_movie('Lion King', movies['title'])"
   ]
  },
  {
   "cell_type": "code",
   "execution_count": 84,
   "metadata": {},
   "outputs": [],
   "source": [
    "filtered_dfs = {}\n",
    "for genre in user['genres']:\n",
    "    filtered_dfs[genre]=movies_genres_ohe[movies_genres_ohe[genre] ==1]\n",
    "\n",
    "    "
   ]
  },
  {
   "cell_type": "code",
   "execution_count": 98,
   "metadata": {},
   "outputs": [],
   "source": [
    "df = pd.DataFrame(columns=movies_genres_ohe.columns)\n",
    "for genre in user['genres']:\n",
    "    df = pd.concat([df, movies_genres_ohe[movies_genres_ohe[genre] ==1]])\n",
    "df.drop_duplicates(inplace=True)"
   ]
  },
  {
   "cell_type": "code",
   "execution_count": 100,
   "metadata": {},
   "outputs": [
    {
     "data": {
      "text/plain": [
       "(4175, 21)"
      ]
     },
     "execution_count": 100,
     "metadata": {},
     "output_type": "execute_result"
    }
   ],
   "source": [
    "df.shape"
   ]
  },
  {
   "cell_type": "code",
   "execution_count": 73,
   "metadata": {},
   "outputs": [],
   "source": [
    "filter1 = (movies_genres_ohe['musical'] ==1)\n",
    "filter2 = (movies_genres_ohe['children'] ==1)\n",
    "filter3 = (movies_genres_ohe['comedy'] ==1)\n",
    "musical_movies = movies_genres_ohe[filter1]\n",
    "children_movies = movies_genres_ohe[filter2]\n",
    "comedy_movies = movies_genres_ohe[filter3]"
   ]
  },
  {
   "cell_type": "code",
   "execution_count": 74,
   "metadata": {},
   "outputs": [
    {
     "data": {
      "text/plain": [
       "title          Confessions of a Dangerous Mind (2002)\n",
       "genres            Comedy|Crime|Drama|Romance|Thriller\n",
       "romance                                             1\n",
       "sci-fi                                              0\n",
       "animation                                           0\n",
       "film-noir                                           0\n",
       "musical                                             0\n",
       "adventure                                           0\n",
       "thriller                                            1\n",
       "horror                                              0\n",
       "documentary                                         0\n",
       "fantasy                                             0\n",
       "mystery                                             0\n",
       "children                                            0\n",
       "comedy                                              1\n",
       "crime                                               1\n",
       "western                                             0\n",
       "imax                                                0\n",
       "war                                                 0\n",
       "drama                                               1\n",
       "action                                              0\n",
       "Name: 144606, dtype: object"
      ]
     },
     "execution_count": 74,
     "metadata": {},
     "output_type": "execute_result"
    }
   ],
   "source": [
    "comedy_movies.loc[144606]"
   ]
  },
  {
   "cell_type": "code",
   "execution_count": 75,
   "metadata": {},
   "outputs": [],
   "source": [
    "genre_movies = pd.concat([musical_movies,children_movies,comedy_movies], axis=0)\n",
    "genre_movies.drop_duplicates(inplace=True, keep='first')"
   ]
  },
  {
   "cell_type": "code",
   "execution_count": 76,
   "metadata": {},
   "outputs": [
    {
     "data": {
      "text/plain": [
       "(4175, 21)"
      ]
     },
     "execution_count": 76,
     "metadata": {},
     "output_type": "execute_result"
    }
   ],
   "source": [
    "genre_movies.shape"
   ]
  },
  {
   "cell_type": "code",
   "execution_count": 78,
   "metadata": {},
   "outputs": [],
   "source": [
    "movies_genres_ohe_filtered = movies_genres_ohe[filter1|filter2|filter3]"
   ]
  },
  {
   "cell_type": "code",
   "execution_count": 79,
   "metadata": {},
   "outputs": [
    {
     "data": {
      "text/html": [
       "<div>\n",
       "<style scoped>\n",
       "    .dataframe tbody tr th:only-of-type {\n",
       "        vertical-align: middle;\n",
       "    }\n",
       "\n",
       "    .dataframe tbody tr th {\n",
       "        vertical-align: top;\n",
       "    }\n",
       "\n",
       "    .dataframe thead th {\n",
       "        text-align: right;\n",
       "    }\n",
       "</style>\n",
       "<table border=\"1\" class=\"dataframe\">\n",
       "  <thead>\n",
       "    <tr style=\"text-align: right;\">\n",
       "      <th></th>\n",
       "      <th>title</th>\n",
       "      <th>genres</th>\n",
       "    </tr>\n",
       "  </thead>\n",
       "  <tbody>\n",
       "    <tr>\n",
       "      <th>48</th>\n",
       "      <td>Pocahontas (1995)</td>\n",
       "      <td>Animation|Children|Drama|Musical|Romance</td>\n",
       "    </tr>\n",
       "    <tr>\n",
       "      <th>107</th>\n",
       "      <td>Muppet Treasure Island (1996)</td>\n",
       "      <td>Adventure|Children|Comedy|Musical</td>\n",
       "    </tr>\n",
       "    <tr>\n",
       "      <th>199</th>\n",
       "      <td>Umbrellas of Cherbourg, The (Parapluies de Che...</td>\n",
       "      <td>Drama|Musical|Romance</td>\n",
       "    </tr>\n",
       "    <tr>\n",
       "      <th>242</th>\n",
       "      <td>Farinelli: il castrato (1994)</td>\n",
       "      <td>Drama|Musical</td>\n",
       "    </tr>\n",
       "    <tr>\n",
       "      <th>346</th>\n",
       "      <td>Backbeat (1993)</td>\n",
       "      <td>Drama|Musical</td>\n",
       "    </tr>\n",
       "    <tr>\n",
       "      <th>...</th>\n",
       "      <td>...</td>\n",
       "      <td>...</td>\n",
       "    </tr>\n",
       "    <tr>\n",
       "      <th>193565</th>\n",
       "      <td>Gintama: The Movie (2010)</td>\n",
       "      <td>Action|Animation|Comedy|Sci-Fi</td>\n",
       "    </tr>\n",
       "    <tr>\n",
       "      <th>193571</th>\n",
       "      <td>Silver Spoon (2014)</td>\n",
       "      <td>Comedy|Drama</td>\n",
       "    </tr>\n",
       "    <tr>\n",
       "      <th>193581</th>\n",
       "      <td>Black Butler: Book of the Atlantic (2017)</td>\n",
       "      <td>Action|Animation|Comedy|Fantasy</td>\n",
       "    </tr>\n",
       "    <tr>\n",
       "      <th>193583</th>\n",
       "      <td>No Game No Life: Zero (2017)</td>\n",
       "      <td>Animation|Comedy|Fantasy</td>\n",
       "    </tr>\n",
       "    <tr>\n",
       "      <th>193609</th>\n",
       "      <td>Andrew Dice Clay: Dice Rules (1991)</td>\n",
       "      <td>Comedy</td>\n",
       "    </tr>\n",
       "  </tbody>\n",
       "</table>\n",
       "<p>4175 rows × 2 columns</p>\n",
       "</div>"
      ],
      "text/plain": [
       "                                                    title  \\\n",
       "48                                      Pocahontas (1995)   \n",
       "107                         Muppet Treasure Island (1996)   \n",
       "199     Umbrellas of Cherbourg, The (Parapluies de Che...   \n",
       "242                         Farinelli: il castrato (1994)   \n",
       "346                                       Backbeat (1993)   \n",
       "...                                                   ...   \n",
       "193565                          Gintama: The Movie (2010)   \n",
       "193571                                Silver Spoon (2014)   \n",
       "193581          Black Butler: Book of the Atlantic (2017)   \n",
       "193583                       No Game No Life: Zero (2017)   \n",
       "193609                Andrew Dice Clay: Dice Rules (1991)   \n",
       "\n",
       "                                          genres  \n",
       "48      Animation|Children|Drama|Musical|Romance  \n",
       "107            Adventure|Children|Comedy|Musical  \n",
       "199                        Drama|Musical|Romance  \n",
       "242                                Drama|Musical  \n",
       "346                                Drama|Musical  \n",
       "...                                          ...  \n",
       "193565            Action|Animation|Comedy|Sci-Fi  \n",
       "193571                              Comedy|Drama  \n",
       "193581           Action|Animation|Comedy|Fantasy  \n",
       "193583                  Animation|Comedy|Fantasy  \n",
       "193609                                    Comedy  \n",
       "\n",
       "[4175 rows x 2 columns]"
      ]
     },
     "execution_count": 79,
     "metadata": {},
     "output_type": "execute_result"
    }
   ],
   "source": [
    "movies.loc[genre_movies.index]"
   ]
  },
  {
   "cell_type": "code",
   "execution_count": 48,
   "metadata": {},
   "outputs": [],
   "source": [
    "filter4= ~movies_genres_ohe_filtered.index.isin(genre_movies.index)"
   ]
  },
  {
   "cell_type": "code",
   "execution_count": 49,
   "metadata": {},
   "outputs": [
    {
     "data": {
      "text/html": [
       "<div>\n",
       "<style scoped>\n",
       "    .dataframe tbody tr th:only-of-type {\n",
       "        vertical-align: middle;\n",
       "    }\n",
       "\n",
       "    .dataframe tbody tr th {\n",
       "        vertical-align: top;\n",
       "    }\n",
       "\n",
       "    .dataframe thead th {\n",
       "        text-align: right;\n",
       "    }\n",
       "</style>\n",
       "<table border=\"1\" class=\"dataframe\">\n",
       "  <thead>\n",
       "    <tr style=\"text-align: right;\">\n",
       "      <th></th>\n",
       "      <th>title</th>\n",
       "      <th>genres</th>\n",
       "      <th>romance</th>\n",
       "      <th>sci-fi</th>\n",
       "      <th>animation</th>\n",
       "      <th>film-noir</th>\n",
       "      <th>musical</th>\n",
       "      <th>adventure</th>\n",
       "      <th>thriller</th>\n",
       "      <th>horror</th>\n",
       "      <th>...</th>\n",
       "      <th>fantasy</th>\n",
       "      <th>mystery</th>\n",
       "      <th>children</th>\n",
       "      <th>comedy</th>\n",
       "      <th>crime</th>\n",
       "      <th>western</th>\n",
       "      <th>imax</th>\n",
       "      <th>war</th>\n",
       "      <th>drama</th>\n",
       "      <th>action</th>\n",
       "    </tr>\n",
       "  </thead>\n",
       "  <tbody>\n",
       "    <tr>\n",
       "      <th>144606</th>\n",
       "      <td>Confessions of a Dangerous Mind (2002)</td>\n",
       "      <td>Comedy|Crime|Drama|Romance|Thriller</td>\n",
       "      <td>1</td>\n",
       "      <td>0</td>\n",
       "      <td>0</td>\n",
       "      <td>0</td>\n",
       "      <td>0</td>\n",
       "      <td>0</td>\n",
       "      <td>1</td>\n",
       "      <td>0</td>\n",
       "      <td>...</td>\n",
       "      <td>0</td>\n",
       "      <td>0</td>\n",
       "      <td>0</td>\n",
       "      <td>1</td>\n",
       "      <td>1</td>\n",
       "      <td>0</td>\n",
       "      <td>0</td>\n",
       "      <td>0</td>\n",
       "      <td>1</td>\n",
       "      <td>0</td>\n",
       "    </tr>\n",
       "  </tbody>\n",
       "</table>\n",
       "<p>1 rows × 21 columns</p>\n",
       "</div>"
      ],
      "text/plain": [
       "                                         title  \\\n",
       "144606  Confessions of a Dangerous Mind (2002)   \n",
       "\n",
       "                                     genres  romance  sci-fi  animation  \\\n",
       "144606  Comedy|Crime|Drama|Romance|Thriller        1       0          0   \n",
       "\n",
       "        film-noir  musical  adventure  thriller  horror  ...  fantasy  \\\n",
       "144606          0        0          0         1       0  ...        0   \n",
       "\n",
       "        mystery  children  comedy  crime  western  imax  war  drama  action  \n",
       "144606        0         0       1      1        0     0    0      1       0  \n",
       "\n",
       "[1 rows x 21 columns]"
      ]
     },
     "execution_count": 49,
     "metadata": {},
     "output_type": "execute_result"
    }
   ],
   "source": [
    "movies_genres_ohe_filtered[filter4]"
   ]
  },
  {
   "cell_type": "code",
   "execution_count": 72,
   "metadata": {},
   "outputs": [
    {
     "data": {
      "text/html": [
       "<div>\n",
       "<style scoped>\n",
       "    .dataframe tbody tr th:only-of-type {\n",
       "        vertical-align: middle;\n",
       "    }\n",
       "\n",
       "    .dataframe tbody tr th {\n",
       "        vertical-align: top;\n",
       "    }\n",
       "\n",
       "    .dataframe thead th {\n",
       "        text-align: right;\n",
       "    }\n",
       "</style>\n",
       "<table border=\"1\" class=\"dataframe\">\n",
       "  <thead>\n",
       "    <tr style=\"text-align: right;\">\n",
       "      <th></th>\n",
       "      <th>title</th>\n",
       "      <th>genres</th>\n",
       "      <th>romance</th>\n",
       "      <th>sci-fi</th>\n",
       "      <th>animation</th>\n",
       "      <th>film-noir</th>\n",
       "      <th>musical</th>\n",
       "      <th>adventure</th>\n",
       "      <th>thriller</th>\n",
       "      <th>horror</th>\n",
       "      <th>...</th>\n",
       "      <th>fantasy</th>\n",
       "      <th>mystery</th>\n",
       "      <th>children</th>\n",
       "      <th>comedy</th>\n",
       "      <th>crime</th>\n",
       "      <th>western</th>\n",
       "      <th>imax</th>\n",
       "      <th>war</th>\n",
       "      <th>drama</th>\n",
       "      <th>action</th>\n",
       "    </tr>\n",
       "  </thead>\n",
       "  <tbody>\n",
       "    <tr>\n",
       "      <th>6003</th>\n",
       "      <td>Confessions of a Dangerous Mind (2002)</td>\n",
       "      <td>Comedy|Crime|Drama|Thriller</td>\n",
       "      <td>0</td>\n",
       "      <td>0</td>\n",
       "      <td>0</td>\n",
       "      <td>0</td>\n",
       "      <td>0</td>\n",
       "      <td>0</td>\n",
       "      <td>1</td>\n",
       "      <td>0</td>\n",
       "      <td>...</td>\n",
       "      <td>0</td>\n",
       "      <td>0</td>\n",
       "      <td>0</td>\n",
       "      <td>1</td>\n",
       "      <td>1</td>\n",
       "      <td>0</td>\n",
       "      <td>0</td>\n",
       "      <td>0</td>\n",
       "      <td>1</td>\n",
       "      <td>0</td>\n",
       "    </tr>\n",
       "    <tr>\n",
       "      <th>144606</th>\n",
       "      <td>Confessions of a Dangerous Mind (2002)</td>\n",
       "      <td>Comedy|Crime|Drama|Romance|Thriller</td>\n",
       "      <td>1</td>\n",
       "      <td>0</td>\n",
       "      <td>0</td>\n",
       "      <td>0</td>\n",
       "      <td>0</td>\n",
       "      <td>0</td>\n",
       "      <td>1</td>\n",
       "      <td>0</td>\n",
       "      <td>...</td>\n",
       "      <td>0</td>\n",
       "      <td>0</td>\n",
       "      <td>0</td>\n",
       "      <td>1</td>\n",
       "      <td>1</td>\n",
       "      <td>0</td>\n",
       "      <td>0</td>\n",
       "      <td>0</td>\n",
       "      <td>1</td>\n",
       "      <td>0</td>\n",
       "    </tr>\n",
       "  </tbody>\n",
       "</table>\n",
       "<p>2 rows × 21 columns</p>\n",
       "</div>"
      ],
      "text/plain": [
       "                                         title  \\\n",
       "6003    Confessions of a Dangerous Mind (2002)   \n",
       "144606  Confessions of a Dangerous Mind (2002)   \n",
       "\n",
       "                                     genres  romance  sci-fi  animation  \\\n",
       "6003            Comedy|Crime|Drama|Thriller        0       0          0   \n",
       "144606  Comedy|Crime|Drama|Romance|Thriller        1       0          0   \n",
       "\n",
       "        film-noir  musical  adventure  thriller  horror  ...  fantasy  \\\n",
       "6003            0        0          0         1       0  ...        0   \n",
       "144606          0        0          0         1       0  ...        0   \n",
       "\n",
       "        mystery  children  comedy  crime  western  imax  war  drama  action  \n",
       "6003          0         0       1      1        0     0    0      1       0  \n",
       "144606        0         0       1      1        0     0    0      1       0  \n",
       "\n",
       "[2 rows x 21 columns]"
      ]
     },
     "execution_count": 72,
     "metadata": {},
     "output_type": "execute_result"
    }
   ],
   "source": [
    "movies_genres_ohe[movies_genres_ohe['title']=='Confessions of a Dangerous Mind (2002)']"
   ]
  },
  {
   "cell_type": "code",
   "execution_count": null,
   "metadata": {},
   "outputs": [],
   "source": []
  }
 ],
 "metadata": {
  "kernelspec": {
   "display_name": "Python 3",
   "language": "python",
   "name": "python3"
  },
  "language_info": {
   "codemirror_mode": {
    "name": "ipython",
    "version": 3
   },
   "file_extension": ".py",
   "mimetype": "text/x-python",
   "name": "python",
   "nbconvert_exporter": "python",
   "pygments_lexer": "ipython3",
   "version": "3.8.5"
  }
 },
 "nbformat": 4,
 "nbformat_minor": 4
}
